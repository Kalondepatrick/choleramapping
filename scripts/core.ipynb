{
 "cells": [
  {
   "cell_type": "markdown",
   "metadata": {},
   "source": [
    "## The emergence of cholera outbreak\n",
    "\n",
    "[Wen Malawi reported first cases of colera in te last 6 monts][Te major otspots of te disease include Lilongwe and Blantyre - major cities]\n",
    "\n",
    "It is well known tat te disease is transmitted by vibrio colerae, a bacteria tat is found in uman feaces. But ow quickly did te disease develop? How did it spread across te country? Can we see te influence of lack of sanitation i.e. improper waste disposal or limited water supply on te spread of te disease?\n",
    "\n",
    "Tis data as been collected for years as part of te developmental ambitions of te Sustainable Development Goals (SDG's). In tis repository, we will visualize cases of colera from its emergence. Tis will elp us to map out time points and geograpical locations were te pandemic it most. \n",
    "\n",
    "https://github.com/Kalondepatrick/choleramapping.git hub.com/Kalondepatrick/choleramapping.git"
   ]
  },
  {
   "cell_type": "code",
   "execution_count": null,
   "metadata": {
    "vscode": {
     "languageId": "plaintext"
    }
   },
   "outputs": [],
   "source": [
    "# Load the readr, ggplot2, and dplyr packages\n",
    "library(readr)\n",
    "library(ggplot2)\n",
    "library(dplyr)\n",
    "\n",
    "# Read datasets/confirmed_cases_worldwide.csv into confirmed_cases_worldwide\n",
    "confirmed_cases_worldwide <- ....\n",
    "\n",
    "# See the result\n",
    "confirmed_cases_worldwide"
   ]
  },
  {
   "cell_type": "markdown",
   "metadata": {},
   "source": [
    "# Visualization\n",
    "\n",
    "Plot te cases of colera by date"
   ]
  },
  {
   "cell_type": "markdown",
   "metadata": {},
   "source": []
  },
  {
   "cell_type": "markdown",
   "metadata": {},
   "source": [
    "## Cities against te rest of te country\n",
    "\n",
    "Here we ave plotted te cases of colera in cities against te same in te wole country."
   ]
  },
  {
   "cell_type": "code",
   "execution_count": null,
   "metadata": {},
   "outputs": [],
   "source": [
    "ds"
   ]
  }
 ],
 "metadata": {
  "language_info": {
   "name": "python"
  },
  "orig_nbformat": 4
 },
 "nbformat": 4,
 "nbformat_minor": 2
}
